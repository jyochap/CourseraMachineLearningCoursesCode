{
 "cells": [
  {
   "cell_type": "markdown",
   "metadata": {},
   "source": [
    "# Regression Week 1: Simple Linear Regression"
   ]
  },
  {
   "cell_type": "markdown",
   "metadata": {},
   "source": [
    "In this notebook we will use data on house sales in King County to predict house prices using simple (one input) linear regression. You will:\n",
    "* Use graphlab SArray and SFrame functions to compute important summary statistics\n",
    "* Write a function to compute the Simple Linear Regression weights using the closed form solution\n",
    "* Write a function to make predictions of the output given the input feature\n",
    "* Turn the regression around to predict the input given the output\n",
    "* Compare two different models for predicting house prices\n",
    "\n",
    "In this notebook you will be provided with some already complete code as well as some code that you should complete yourself in order to answer quiz questions. The code we provide to complete is optional and is there to assist you with solving the problems but feel free to ignore the helper code and write your own."
   ]
  },
  {
   "cell_type": "markdown",
   "metadata": {},
   "source": [
    "# Fire up graphlab create"
   ]
  },
  {
   "cell_type": "code",
   "execution_count": 1,
   "metadata": {
    "collapsed": false
   },
   "outputs": [],
   "source": [
    "import graphlab as gl"
   ]
  },
  {
   "cell_type": "markdown",
   "metadata": {},
   "source": [
    "# Load house sales data\n",
    "\n",
    "Dataset is from house sales in King County, the region where the city of Seattle, WA is located."
   ]
  },
  {
   "cell_type": "code",
   "execution_count": 2,
   "metadata": {
    "collapsed": false
   },
   "outputs": [
    {
     "name": "stderr",
     "output_type": "stream",
     "text": [
      "[INFO] graphlab.cython.cy_server: GraphLab Create v2.1 started. Logging: /tmp/graphlab_server_1490033910.log\n",
      "INFO:graphlab.cython.cy_server:GraphLab Create v2.1 started. Logging: /tmp/graphlab_server_1490033910.log\n"
     ]
    },
    {
     "name": "stdout",
     "output_type": "stream",
     "text": [
      "This non-commercial license of GraphLab Create for academic use is assigned to  and .\n"
     ]
    }
   ],
   "source": [
    "sales = gl.SFrame('kc_house_data.gl/')"
   ]
  },
  {
   "cell_type": "code",
   "execution_count": 5,
   "metadata": {
    "collapsed": false
   },
   "outputs": [],
   "source": [
    "gl.canvas.set_target('ipynb')"
   ]
  },
  {
   "cell_type": "code",
   "execution_count": 6,
   "metadata": {
    "collapsed": false
   },
   "outputs": [
    {
     "data": {
      "application/javascript": [
       "$(\"head\").append($(\"<link/>\").attr({\n",
       "  rel:  \"stylesheet\",\n",
       "  type: \"text/css\",\n",
       "  href: \"//cdnjs.cloudflare.com/ajax/libs/font-awesome/4.1.0/css/font-awesome.min.css\"\n",
       "}));\n",
       "$(\"head\").append($(\"<link/>\").attr({\n",
       "  rel:  \"stylesheet\",\n",
       "  type: \"text/css\",\n",
       "  href: \"https://static.turi.com/products/graphlab-create/2.1/canvas/css/canvas.css\"\n",
       "}));\n",
       "\n",
       "            (function(){\n",
       "\n",
       "                var e = null;\n",
       "                if (typeof element == 'undefined') {\n",
       "                    var scripts = document.getElementsByTagName('script');\n",
       "                    var thisScriptTag = scripts[scripts.length-1];\n",
       "                    var parentDiv = thisScriptTag.parentNode;\n",
       "                    e = document.createElement('div');\n",
       "                    parentDiv.appendChild(e);\n",
       "                } else {\n",
       "                    e = element[0];\n",
       "                }\n",
       "\n",
       "                if (typeof requirejs !== 'undefined') {\n",
       "                    // disable load timeout; ipython_app.js is large and can take a while to load.\n",
       "                    requirejs.config({waitSeconds: 0});\n",
       "                }\n",
       "\n",
       "                require(['https://static.turi.com/products/graphlab-create/2.1/canvas/js/ipython_app.js'], function(IPythonApp){\n",
       "                    var app = new IPythonApp();\n",
       "                    app.attachView('sframe','Plots', {\"selected_variable\": {\"name\": [\"sales\"], \"descriptives\": {\"rows\": 21613, \"columns\": 21}, \"view_component\": \"Plots\", \"view_file\": \"sframe\", \"view_params\": {\"y\": \"price\", \"x\": \"sqft_living\", \"columns\": [\"id\", \"date\", \"price\", \"bedrooms\", \"bathrooms\", \"sqft_living\", \"sqft_lot\", \"floors\", \"waterfront\", \"view\", \"condition\", \"grade\", \"sqft_above\", \"sqft_basement\", \"yr_built\", \"yr_renovated\", \"zipcode\", \"lat\", \"long\", \"sqft_living15\", \"sqft_lot15\"], \"view\": \"Scatter Plot\"}, \"view_components\": [\"Summary\", \"Table\", \"Bar Chart\", \"BoxWhisker Plot\", \"Line Chart\", \"Scatter Plot\", \"Heat Map\", \"Plots\"], \"type\": \"SFrame\", \"columns\": [{\"dtype\": \"str\", \"name\": \"id\"}, {\"dtype\": \"datetime\", \"name\": \"date\"}, {\"dtype\": \"float\", \"name\": \"price\"}, {\"dtype\": \"float\", \"name\": \"bedrooms\"}, {\"dtype\": \"float\", \"name\": \"bathrooms\"}, {\"dtype\": \"float\", \"name\": \"sqft_living\"}, {\"dtype\": \"int\", \"name\": \"sqft_lot\"}, {\"dtype\": \"str\", \"name\": \"floors\"}, {\"dtype\": \"int\", \"name\": \"waterfront\"}, {\"dtype\": \"int\", \"name\": \"view\"}, {\"dtype\": \"int\", \"name\": \"condition\"}, {\"dtype\": \"int\", \"name\": \"grade\"}, {\"dtype\": \"int\", \"name\": \"sqft_above\"}, {\"dtype\": \"int\", \"name\": \"sqft_basement\"}, {\"dtype\": \"int\", \"name\": \"yr_built\"}, {\"dtype\": \"int\", \"name\": \"yr_renovated\"}, {\"dtype\": \"str\", \"name\": \"zipcode\"}, {\"dtype\": \"float\", \"name\": \"lat\"}, {\"dtype\": \"float\", \"name\": \"long\"}, {\"dtype\": \"float\", \"name\": \"sqft_living15\"}, {\"dtype\": \"float\", \"name\": \"sqft_lot15\"}], \"column_identifiers\": [\"bathrooms\", \"sqft_living15\", \"sqft_above\", \"grade\", \"yr_built\", \"price\", \"bedrooms\", \"zipcode\", \"long\", \"id\", \"sqft_lot15\", \"sqft_living\", \"floors\", \"sqft_lot\", \"date\", \"waterfront\", \"sqft_basement\", \"yr_renovated\", \"lat\", \"condition\", \"view\"]}, \"complete\": 1, \"ipython\": true, \"progress\": 1.0, \"data\": [[3240.0, 651000.0], [1790.0, 414000.0], [1760.0, 500000.0], [980.0, 415000.0], [1680.0, 510000.0], [1700.0, 600000.0], [850.0, 320000.0], [4080.0, 920000.0], [1080.0, 525000.0], [1890.0, 323000.0], [760.0, 430000.0], [2290.0, 430000.0], [2980.0, 374900.0], [1230.0, 324950.0], [1730.0, 205000.0], [1430.0, 400000.0], [3180.0, 780000.0], [2280.0, 700000.0], [3850.0, 820000.0], [2940.0, 503000.0], [980.0, 204000.0], [1290.0, 250800.0], [1170.0, 400000.0], [2400.0, 280000.0], [1550.0, 418000.0], [1720.0, 490000.0], [1450.0, 210000.0], [2340.0, 485000.0], [1615.0, 665000.0], [1370.0, 280000.0], [1250.0, 299000.0], [3040.0, 538900.0], [3500.0, 682500.0], [1670.0, 289950.0], [1880.0, 355000.0], [2050.0, 739000.0], [1670.0, 256703.0], [2110.0, 324500.0], [1770.0, 381000.0], [1090.0, 440000.0], [3270.0, 560000.0], [2680.0, 379950.0], [1600.0, 383900.0], [2680.0, 475000.0], [1370.0, 431500.0], [3040.0, 640000.0], [1430.0, 305000.0], [2530.0, 880000.0], [1840.0, 650000.0], [2770.0, 653000.0], [3430.0, 749995.0], [1390.0, 230000.0], [1410.0, 406100.0], [1340.0, 479000.0], [1450.0, 360000.0], [2830.0, 885000.0], [1010.0, 225000.0], [1760.0, 485000.0], [1700.0, 429000.0], [1780.0, 336000.0], [2678.0, 546200.0], [1700.0, 550000.0], [1500.0, 290000.0], [3070.0, 785000.0], [1660.0, 658000.0], [4350.0, 2065000.0], [1830.0, 682000.0], [1440.0, 650000.0], [2900.0, 926500.0], [1820.0, 359000.0], [1440.0, 439950.0], [1260.0, 325000.0], [1870.0, 455000.0], [2380.0, 360000.0], [2990.0, 1055000.0], [3290.0, 520000.0], [1530.0, 265000.0], [2900.0, 354000.0], [3090.0, 1220000.0], [1910.0, 850000.0], [3240.0, 800000.0], [1030.0, 326000.0], [3200.0, 490000.0], [2400.0, 570000.0], [3120.0, 730100.0], [1540.0, 279000.0], [2660.0, 305000.0], [1340.0, 240000.0], [1670.0, 649950.0], [1420.0, 421000.0], [1520.0, 450000.0], [1600.0, 438200.0], [3030.0, 509900.0], [2580.0, 326000.0], [1940.0, 295000.0], [1540.0, 260000.0], [2230.0, 448000.0], [1700.0, 294000.0], [3400.0, 510000.0], [1740.0, 400000.0], [4280.0, 2050000.0], [2980.0, 1339000.0], [2420.0, 352000.0], [1940.0, 577000.0], [1320.0, 455000.0], [1870.0, 460000.0], [1400.0, 190000.0], [1140.0, 199000.0], [4180.0, 1255784.0], [1710.0, 397000.0], [1780.0, 266000.0], [1210.0, 478000.0], [1020.0, 280000.0], [1310.0, 300000.0], [2190.0, 563500.0], [1340.0, 425000.0], [4260.0, 994000.0], [1360.0, 260000.0], [2390.0, 335000.0], [1810.0, 420000.0], [1580.0, 195000.0], [2210.0, 620000.0], [1770.0, 200000.0], [2100.0, 445000.0], [1560.0, 196440.0], [3450.0, 990000.0], [3910.0, 961500.0], [1720.0, 313100.0], [2550.0, 512000.0], [1620.0, 415000.0], [3100.0, 1125000.0], [2120.0, 637250.0], [1720.0, 350000.0], [5570.0, 1855000.0], [1950.0, 899000.0], [1120.0, 165000.0], [2860.0, 300000.0], [1530.0, 255000.0], [3010.0, 775000.0], [1540.0, 450000.0], [1850.0, 975000.0], [1230.0, 415000.0], [2810.0, 487500.0], [3120.0, 1939999.0], [860.0, 320000.0], [1120.0, 230000.0], [1310.0, 600000.0], [1270.0, 615000.0], [2260.0, 258000.0], [2340.0, 305000.0], [1470.0, 215000.0], [1170.0, 207500.0], [3140.0, 409000.0], [1350.0, 571000.0], [1880.0, 412000.0], [1180.0, 215000.0], [1510.0, 275000.0], [4540.0, 1150000.0], [1570.0, 792000.0], [3640.0, 932990.0], [1640.0, 645000.0], [1080.0, 550000.0], [2300.0, 350000.0], [1340.0, 252000.0], [2370.0, 685000.0], [4350.0, 900000.0], [1350.0, 450000.0], [3800.0, 2395000.0], [1780.0, 353000.0], [1650.0, 550000.0], [840.0, 450000.0], [980.0, 390000.0], [2000.0, 320000.0], [1510.0, 549000.0], [1540.0, 624000.0], [1120.0, 425000.0], [2180.0, 558000.0], [1220.0, 317500.0], [2390.0, 770126.0], [1400.0, 279000.0], [1380.0, 294000.0], [2250.0, 287500.0], [2270.0, 624900.0], [1810.0, 517500.0], [3130.0, 835000.0], [1020.0, 360000.0], [2050.0, 329950.0], [1250.0, 405000.0], [1330.0, 615000.0], [900.0, 263300.0], [1330.0, 787000.0], [2030.0, 420000.0], [1770.0, 507000.0], [1490.0, 255000.0], [2070.0, 343000.0], [1850.0, 303000.0], [3010.0, 847000.0], [2180.0, 435000.0], [3750.0, 1310000.0], [3780.0, 782000.0], [2350.0, 613500.0], [2170.0, 389950.0], [1150.0, 354500.0], [1420.0, 510000.0], [1360.0, 222000.0], [3000.0, 527000.0], [2440.0, 765000.0], [1800.0, 364000.0], [2910.0, 705000.0], [2150.0, 279950.0], [1175.0, 342000.0], [2050.0, 670000.0], [1560.0, 627500.0], [1740.0, 342000.0], [3860.0, 903000.0], [3280.0, 925000.0], [1230.0, 229500.0], [1160.0, 325000.0], [3900.0, 1072000.0], [1900.0, 278000.0], [1870.0, 348500.0], [1220.0, 348580.0], [1530.0, 410000.0], [2790.0, 865000.0], [2060.0, 575000.0], [1250.0, 390000.0], [2220.0, 515000.0], [1050.0, 230000.0], [1610.0, 203000.0], [1730.0, 328423.0], [3210.0, 750000.0], [2340.0, 544000.0], [1250.0, 293550.0], [1000.0, 213000.0], [830.0, 235000.0], [1260.0, 300000.0], [2440.0, 312000.0], [1410.0, 520000.0], [4680.0, 1160000.0], [1650.0, 600000.0], [2130.0, 593450.0], [3070.0, 1105000.0], [1430.0, 455000.0], [1220.0, 231000.0], [1347.0, 321000.0], [1420.0, 510000.0], [3520.0, 800000.0], [1280.0, 340000.0], [960.0, 319000.0], [2130.0, 360000.0], [3060.0, 970000.0], [490.0, 150000.0], [1550.0, 325000.0], [3130.0, 745000.0], [1160.0, 275000.0], [820.0, 320000.0], [770.0, 176000.0], [1790.0, 390000.0], [3890.0, 985000.0], [2820.0, 395000.0], [3250.0, 980000.0], [1380.0, 240000.0], [2740.0, 1157400.0], [3080.0, 635000.0], [1490.0, 490000.0], [2080.0, 610000.0], [1870.0, 619100.0], [2060.0, 270000.0], [1640.0, 700000.0], [2330.0, 639500.0], [3370.0, 998000.0], [1680.0, 285000.0], [2050.0, 530000.0], [2690.0, 530000.0], [2000.0, 229950.0], [1830.0, 275000.0], [3750.0, 775000.0], [1630.0, 320000.0], [2080.0, 300000.0], [1250.0, 209000.0], [2720.0, 1062000.0], [710.0, 362362.0], [970.0, 300000.0], [2070.0, 405000.0], [1620.0, 425000.0], [2420.0, 380000.0], [2180.0, 635000.0], [1820.0, 331500.0], [3090.0, 1110000.0], [2080.0, 284000.0], [3080.0, 841000.0], [2720.0, 850000.0], [990.0, 250000.0], [1580.0, 375000.0], [2540.0, 650000.0], [1830.0, 599950.0], [1798.0, 199900.0], [2230.0, 491500.0], [1190.0, 550700.0], [2010.0, 218000.0], [1550.0, 533000.0], [1900.0, 335000.0], [2830.0, 695000.0], [1010.0, 147500.0], [2710.0, 627000.0], [1460.0, 499922.0], [970.0, 425000.0], [2100.0, 380000.0], [900.0, 315000.0], [2360.0, 589000.0], [1960.0, 435000.0], [2860.0, 670000.0], [3140.0, 750000.0], [4290.0, 1384000.0], [1980.0, 279000.0], [3550.0, 2100000.0], [1390.0, 280000.0], [2680.0, 575000.0], [1860.0, 730000.0], [4320.0, 887250.0], [3150.0, 819900.0], [560.0, 249900.0], [1450.0, 230000.0], [770.0, 378510.0], [1130.0, 204950.0], [2320.0, 447500.0], [4080.0, 825000.0], [1500.0, 485000.0], [2000.0, 375000.0], [3320.0, 1025000.0], [2329.0, 327555.0], [3240.0, 612995.0], [910.0, 422500.0], [2430.0, 515000.0], [2910.0, 915000.0], [2200.0, 315000.0], [840.0, 291000.0], [4380.0, 1050000.0], [1420.0, 265000.0], [1010.0, 345000.0], [3050.0, 1475000.0], [970.0, 210000.0], [1450.0, 380000.0], [2500.0, 330000.0], [2910.0, 530000.0], [1700.0, 349950.0], [1830.0, 249000.0], [3290.0, 930000.0], [1100.0, 190000.0], [2260.0, 605000.0], [3030.0, 799900.0], [1470.0, 432500.0], [2250.0, 585000.0], [2590.0, 660000.0], [4670.0, 2450000.0], [3070.0, 1920000.0], [950.0, 230000.0], [2181.0, 340000.0], [3220.0, 355000.0], [3520.0, 1500000.0], [1140.0, 330000.0], [1160.0, 405000.0], [2240.0, 415000.0], [1730.0, 465000.0], [1690.0, 440000.0], [5770.0, 1680000.0], [2280.0, 416500.0], [3520.0, 810000.0], [1460.0, 443750.0], [1540.0, 520000.0], [1300.0, 462000.0], [2180.0, 315000.0], [2030.0, 765000.0], [2060.0, 705000.0], [1450.0, 297000.0], [2490.0, 370000.0], [1990.0, 180000.0], [970.0, 262500.0], [1040.0, 212000.0], [3570.0, 1600000.0], [1930.0, 531800.0], [2620.0, 519000.0], [1230.0, 435000.0], [1010.0, 215000.0], [2040.0, 330000.0], [840.0, 306500.0], [3030.0, 790000.0], [1530.0, 575000.0], [1970.0, 454000.0], [1550.0, 348500.0], [1190.0, 240000.0], [910.0, 85000.0], [2100.0, 735000.0], [2038.0, 319950.0], [2590.0, 760000.0], [1750.0, 242000.0], [1740.0, 350000.0], [1330.0, 482500.0], [1790.0, 800000.0], [1590.0, 255000.0], [2230.0, 690000.0], [4150.0, 550000.0], [980.0, 334900.0], [2470.0, 635000.0], [2500.0, 538500.0], [2100.0, 211000.0], [2820.0, 398500.0], [1000.0, 189900.0], [3100.0, 475000.0], [2370.0, 687000.0], [2410.0, 560000.0], [833.0, 517534.0], [1560.0, 600000.0], [940.0, 229000.0], [600.0, 156000.0], [2070.0, 255000.0], [3090.0, 751000.0], [1090.0, 405000.0], [1550.0, 645000.0], [3280.0, 1875000.0], [1910.0, 250000.0], [1600.0, 625000.0], [1600.0, 455000.0], [1980.0, 470000.0], [2260.0, 551000.0], [910.0, 255000.0], [2920.0, 675900.0], [2270.0, 452000.0], [3600.0, 1415000.0], [1860.0, 387500.0], [1680.0, 275000.0], [1700.0, 520000.0], [4370.0, 473000.0], [2240.0, 390000.0], [1810.0, 489000.0], [1610.0, 180000.0], [2330.0, 516000.0], [1150.0, 213400.0], [6510.0, 1900000.0], [1870.0, 299990.0], [1950.0, 565000.0], [1954.0, 235245.0], [2310.0, 330000.0], [1840.0, 265000.0], [3730.0, 599950.0], [2760.0, 952000.0], [2230.0, 544500.0], [1980.0, 703300.0], [1230.0, 195000.0], [2350.0, 760000.0], [820.0, 532500.0], [2400.0, 387500.0], [4460.0, 1150000.0], [1430.0, 270000.0], [2060.0, 885000.0], [1470.0, 280000.0], [1960.0, 182000.0], [1340.0, 621000.0], [3400.0, 799000.0], [2460.0, 358000.0], [1300.0, 198000.0], [1680.0, 620000.0], [1670.0, 697000.0], [2540.0, 310000.0], [1400.0, 887200.0], [3200.0, 1272000.0], [2840.0, 440000.0], [2380.0, 986000.0], [4020.0, 1419000.0], [2260.0, 660000.0], [2870.0, 399000.0], [1530.0, 500000.0], [1530.0, 576250.0], [960.0, 232000.0], [1370.0, 288000.0], [1690.0, 498000.0], [3860.0, 1051000.0], [2930.0, 1047500.0], [1380.0, 322000.0], [3930.0, 1093000.0], [3450.0, 1295000.0], [1340.0, 230000.0], [1830.0, 295000.0], [3360.0, 850000.0], [1820.0, 318400.0], [1280.0, 232000.0], [1480.0, 280000.0], [2470.0, 449950.0], [910.0, 455000.0], [4600.0, 2408000.0], [1580.0, 452000.0], [2710.0, 275000.0], [2810.0, 624000.0], [1640.0, 735000.0], [2420.0, 390000.0], [2360.0, 290000.0], [2260.0, 550000.0], [1900.0, 350000.0], [1150.0, 171500.0], [3190.0, 587000.0], [2540.0, 355000.0], [2820.0, 456700.0], [2000.0, 267000.0], [1330.0, 183000.0], [1300.0, 675000.0], [1830.0, 439000.0], [1840.0, 457500.0], [2550.0, 1400000.0], [1540.0, 615000.0], [2110.0, 355000.0], [1250.0, 330000.0], [930.0, 176500.0], [1320.0, 255000.0], [1330.0, 290000.0], [3380.0, 1190000.0], [1730.0, 292000.0], [2320.0, 416100.0], [3660.0, 1107461.0], [1620.0, 532500.0], [1300.0, 375000.0], [2550.0, 394000.0], [1830.0, 524950.0], [2730.0, 510000.0], [1380.0, 380000.0], [940.0, 275000.0], [1690.0, 356200.0], [1880.0, 272000.0], [1520.0, 402000.0], [2110.0, 802000.0], [2430.0, 365000.0], [1320.0, 475000.0], [2940.0, 752000.0], [2420.0, 760000.0], [3170.0, 750000.0], [1710.0, 287000.0], [3870.0, 585000.0], [1100.0, 212000.0], [2620.0, 525000.0], [2430.0, 362300.0], [2160.0, 650000.0], [2740.0, 400000.0], [1220.0, 325000.0], [2420.0, 665000.0], [1400.0, 553000.0], [1680.0, 653500.0], [2510.0, 330000.0], [2870.0, 760369.0], [1540.0, 515000.0], [2240.0, 323500.0], [1230.0, 569000.0], [1830.0, 353000.0], [3230.0, 370000.0], [4360.0, 890000.0], [710.0, 215000.0], [1270.0, 404500.0], [2570.0, 1180000.0], [1140.0, 345000.0], [1750.0, 524950.0], [2130.0, 649990.0], [1550.0, 313000.0], [1410.0, 377500.0], [950.0, 162950.0], [3190.0, 780000.0], [1670.0, 274950.0], [3900.0, 1650000.0], [1930.0, 439990.0], [1480.0, 307150.0], [1510.0, 525000.0], [1300.0, 398000.0], [2100.0, 491500.0], [2840.0, 735000.0], [1710.0, 529999.0], [3880.0, 430000.0], [1120.0, 166000.0], [1750.0, 363000.0], [1110.0, 550000.0], [830.0, 393000.0], [2040.0, 542500.0], [1650.0, 382000.0], [2080.0, 898888.0], [2360.0, 595000.0], [3040.0, 605000.0], [1220.0, 237200.0], [2620.0, 355000.0], [1480.0, 650000.0], [1410.0, 382000.0], [1260.0, 485000.0], [3180.0, 900000.0], [1320.0, 313000.0], [1190.0, 311000.0], [1830.0, 220000.0], [1300.0, 170000.0], [2460.0, 704111.0], [2600.0, 1697000.0], [1910.0, 460000.0], [1640.0, 245700.0], [2560.0, 440000.0], [5000.0, 1450000.0], [1720.0, 589000.0], [3600.0, 923990.0], [1780.0, 325000.0], [1890.0, 265000.0], [1430.0, 185000.0], [1390.0, 199000.0], [3530.0, 1400000.0], [2470.0, 337000.0], [1270.0, 531000.0], [3210.0, 690000.0], [1820.0, 206000.0], [2270.0, 575000.0], [1700.0, 710000.0], [2920.0, 515500.0], [1100.0, 306500.0], [2830.0, 450000.0], [1670.0, 585000.0], [2680.0, 437500.0], [780.0, 319000.0], [1390.0, 370000.0], [2520.0, 610685.0], [1390.0, 204900.0], [1980.0, 380000.0], [3030.0, 740000.0], [1880.0, 585000.0], [1500.0, 255000.0], [2950.0, 615000.0], [960.0, 289500.0], [1060.0, 315000.0], [2500.0, 646000.0], [1000.0, 225000.0], [2490.0, 572500.0], [770.0, 197000.0], [2620.0, 405000.0], [1240.0, 259950.0], [2630.0, 576925.0], [2120.0, 600000.0], [2793.0, 421500.0], [1740.0, 568000.0], [1360.0, 255000.0], [1210.0, 678500.0], [2190.0, 980000.0], [2040.0, 315000.0], [2530.0, 350000.0], [2180.0, 625000.0], [2500.0, 390000.0], [1960.0, 759000.0], [1870.0, 314000.0], [3710.0, 2537000.0], [1460.0, 399000.0], [1880.0, 333000.0], [530.0, 355000.0], [1910.0, 585000.0], [2110.0, 490000.0], [1010.0, 149500.0], [2200.0, 216600.0], [1840.0, 583000.0], [1200.0, 450000.0], [2260.0, 339950.0], [1510.0, 195000.0], [1010.0, 337000.0], [1900.0, 515000.0], [2880.0, 845000.0], [3470.0, 730000.0], [2120.0, 386000.0], [2110.0, 425000.0], [1010.0, 215000.0], [1480.0, 410000.0], [3786.0, 1379900.0], [2630.0, 655000.0], [3500.0, 790000.0], [2780.0, 660000.0], [1360.0, 515000.0], [2440.0, 338000.0], [1440.0, 230000.0], [1950.0, 412000.0], [940.0, 265000.0], [1520.0, 210000.0], [2470.0, 438950.0], [2750.0, 730000.0], [2320.0, 600000.0], [2340.0, 445000.0], [1250.0, 425000.0], [4830.0, 1679000.0], [1770.0, 420000.0], [1730.0, 575700.0], [950.0, 500000.0], [1820.0, 525000.0], [1200.0, 389000.0], [1670.0, 304000.0], [1060.0, 320000.0], [1680.0, 629950.0], [2240.0, 452500.0], [3060.0, 390000.0], [2790.0, 445000.0], [2280.0, 626100.0], [3480.0, 878000.0], [1980.0, 207000.0], [3210.0, 770000.0], [1700.0, 456000.0], [2200.0, 353000.0], [810.0, 285000.0], [1170.0, 295000.0], [1500.0, 300000.0], [1730.0, 430000.0], [2610.0, 515000.0], [2040.0, 475000.0], [2190.0, 699900.0], [2440.0, 631625.0], [1120.0, 540000.0], [2780.0, 325000.0], [1560.0, 509000.0], [3350.0, 1110000.0], [2390.0, 1350000.0], [2090.0, 469500.0], [1650.0, 295000.0], [1280.0, 579000.0], [2540.0, 655000.0], [1950.0, 375000.0], [840.0, 355000.0], [1540.0, 180500.0], [680.0, 200000.0], [2660.0, 310000.0], [960.0, 565000.0], [1500.0, 242000.0], [3720.0, 1450000.0], [1600.0, 424305.0], [1700.0, 319950.0], [1680.0, 306000.0], [3780.0, 970000.0], [1470.0, 328000.0], [1230.0, 420000.0], [5020.0, 3650000.0], [2180.0, 634950.0], [2200.0, 322000.0], [1080.0, 112000.0], [2030.0, 579000.0], [2000.0, 756100.0], [1910.0, 588000.0], [830.0, 200000.0], [1650.0, 485000.0], [1278.0, 358000.0], [1960.0, 535000.0], [1850.0, 257000.0], [3420.0, 2250000.0], [1490.0, 570000.0], [1640.0, 640500.0], [3460.0, 858450.0], [3240.0, 600000.0], [1720.0, 427000.0], [1410.0, 700000.0], [3520.0, 1395000.0], [1570.0, 335000.0], [2390.0, 396500.0], [1240.0, 459000.0], [1150.0, 346500.0], [800.0, 325000.0], [1650.0, 350000.0], [720.0, 270000.0], [1520.0, 210000.0], [2760.0, 847093.0], [2760.0, 445000.0], [1000.0, 196000.0], [2260.0, 350000.0], [2490.0, 634000.0], [2380.0, 652100.0], [2390.0, 405300.0], [2510.0, 395000.0], [2110.0, 516200.0], [1220.0, 672000.0], [2500.0, 760000.0], [1240.0, 375000.0], [1516.0, 575575.0], [1560.0, 604000.0], [2770.0, 645000.0], [2210.0, 445500.0], [1410.0, 465000.0], [1240.0, 425000.0], [1200.0, 427000.0], [1910.0, 493000.0], [1190.0, 455000.0], [2660.0, 1901000.0], [1300.0, 540000.0], [770.0, 230000.0], [2920.0, 868500.0], [1770.0, 360000.0], [1350.0, 397500.0], [1480.0, 235000.0], [2850.0, 545400.0], [2230.0, 700000.0], [2080.0, 800000.0], [1160.0, 330000.0], [1720.0, 161700.0], [2010.0, 495500.0], [4620.0, 1459000.0], [2110.0, 385000.0], [1360.0, 279900.0], [1660.0, 619000.0], [2050.0, 689500.0], [940.0, 473000.0], [1680.0, 350000.0], [2520.0, 765000.0], [2790.0, 835000.0], [2430.0, 506000.0], [900.0, 375000.0], [1440.0, 405000.0], [1090.0, 220000.0], [1140.0, 230000.0], [1510.0, 260000.0], [1450.0, 557000.0], [2630.0, 843500.0], [3290.0, 739900.0], [1090.0, 152500.0], [1800.0, 420000.0], [1010.0, 269000.0], [1660.0, 680000.0], [1750.0, 415500.0], [1060.0, 476500.0], [3090.0, 1112750.0], [1040.0, 299000.0], [1600.0, 395000.0], [1630.0, 567000.0], [1980.0, 437000.0], [2030.0, 310950.0], [2620.0, 650000.0], [2390.0, 570000.0], [1180.0, 664950.0], [1010.0, 283700.0], [1220.0, 483000.0], [1240.0, 445000.0], [1940.0, 545000.0], [2610.0, 659000.0], [2620.0, 360000.0], [750.0, 292500.0], [1550.0, 430000.0], [2460.0, 357000.0], [1380.0, 249900.0], [3750.0, 920000.0], [2900.0, 650000.0], [2020.0, 633000.0], [1820.0, 519900.0], [3010.0, 625000.0], [1410.0, 529500.0], [2780.0, 550000.0], [920.0, 319950.0], [880.0, 415000.0], [2480.0, 610000.0], [640.0, 110000.0], [2500.0, 840000.0], [2840.0, 339000.0], [2020.0, 390000.0], [920.0, 189950.0], [2370.0, 387865.0], [1880.0, 667500.0], [3410.0, 815000.0], [2780.0, 825500.0], [2170.0, 685000.0], [1740.0, 425000.0], [1720.0, 608000.0], [2090.0, 659000.0], [1560.0, 430000.0], [900.0, 496000.0], [2080.0, 368000.0], [910.0, 565000.0], [1740.0, 472000.0], [2910.0, 780000.0], [890.0, 475000.0], [2450.0, 450000.0], [920.0, 275000.0], [2550.0, 660000.0], [1380.0, 365000.0], [2310.0, 685000.0], [1960.0, 395000.0], [3266.0, 424950.0], [1400.0, 570000.0], [1380.0, 477000.0], [1230.0, 575000.0], [1400.0, 403000.0], [1410.0, 301500.0], [3220.0, 690000.0], [1210.0, 357186.0], [2520.0, 420000.0], [1610.0, 485000.0], [4020.0, 1050000.0], [3290.0, 947500.0], [860.0, 340000.0], [2090.0, 310000.0], [3570.0, 624000.0], [1360.0, 415000.0], [2880.0, 885000.0], [1860.0, 380000.0], [3020.0, 754000.0], [1460.0, 295000.0], [2010.0, 471000.0], [1720.0, 775000.0], [1660.0, 515000.0], [1680.0, 620000.0], [1710.0, 431650.0], [1650.0, 434500.0], [1990.0, 309000.0], [1530.0, 500000.0], [3290.0, 728000.0], [1140.0, 329000.0], [1730.0, 270000.0], [1600.0, 275000.0], [1490.0, 255000.0], [1800.0, 437718.0], [1300.0, 263000.0], [1820.0, 511000.0], [3030.0, 901000.0], [1360.0, 237100.0], [3000.0, 585000.0], [1470.0, 430000.0], [1560.0, 465000.0], [1070.0, 386950.0], [3020.0, 622000.0], [1690.0, 330000.0], [1720.0, 348000.0], [1690.0, 400375.0], [2760.0, 492500.0], [2170.0, 377000.0], [1520.0, 475000.0], [2710.0, 623000.0], [2540.0, 630000.0], [1330.0, 245000.0], [1370.0, 797000.0], [2080.0, 345000.0], [2150.0, 339950.0], [3410.0, 585000.0], [3280.0, 825000.0], [2410.0, 365000.0], [2320.0, 530000.0], [1740.0, 665000.0], [2030.0, 440000.0], [2570.0, 625700.0], [970.0, 156000.0], [2070.0, 1350000.0], [2930.0, 1385000.0], [1790.0, 493000.0], [2350.0, 800000.0], [2050.0, 568000.0], [2360.0, 362000.0], [1400.0, 276500.0], [2900.0, 1580000.0], [2120.0, 332000.0], [2310.0, 450000.0], [3540.0, 1348000.0], [1030.0, 225000.0], [2120.0, 828000.0], [2298.0, 372000.0], [1330.0, 410000.0], [3560.0, 616950.0], [2600.0, 985000.0], [2260.0, 675000.0], [1600.0, 525000.0], [2720.0, 429000.0], [1280.0, 470000.0], [1310.0, 249900.0], [2300.0, 417000.0], [610.0, 126000.0], [2100.0, 480000.0], [1120.0, 345000.0], [2280.0, 571000.0], [3360.0, 590000.0], [1810.0, 270000.0], [3030.0, 768000.0], [1710.0, 462000.0], [1980.0, 286285.0], [1640.0, 275000.0], [2680.0, 445000.0], [1260.0, 550000.0], [1400.0, 483000.0], [1000.0, 375000.0], [2660.0, 695000.0], [2710.0, 656500.0], [1200.0, 361000.0], [1390.0, 406000.0], [2320.0, 450000.0], [2530.0, 355000.0], [2810.0, 607000.0], [2620.0, 475000.0], [3530.0, 995000.0], [940.0, 325000.0], [850.0, 460000.0], [2240.0, 335000.0], [2820.0, 1075000.0], [980.0, 375000.0], [2090.0, 400000.0], [3180.0, 736500.0], [1280.0, 193000.0], [1730.0, 257000.0], [1650.0, 299000.0], [4300.0, 593500.0], [1820.0, 545000.0], [1210.0, 402000.0], [1710.0, 502000.0], [1070.0, 265000.0], [2660.0, 667400.0], [3040.0, 500000.0], [2120.0, 518500.0], [1160.0, 508300.0], [4040.0, 1388000.0]], \"columns\": [{\"dtype\": \"str\", \"name\": \"id\"}, {\"dtype\": \"datetime\", \"name\": \"date\"}, {\"dtype\": \"float\", \"name\": \"price\"}, {\"dtype\": \"float\", \"name\": \"bedrooms\"}, {\"dtype\": \"float\", \"name\": \"bathrooms\"}, {\"dtype\": \"float\", \"name\": \"sqft_living\"}, {\"dtype\": \"int\", \"name\": \"sqft_lot\"}, {\"dtype\": \"str\", \"name\": \"floors\"}, {\"dtype\": \"int\", \"name\": \"waterfront\"}, {\"dtype\": \"int\", \"name\": \"view\"}, {\"dtype\": \"int\", \"name\": \"condition\"}, {\"dtype\": \"int\", \"name\": \"grade\"}, {\"dtype\": \"int\", \"name\": \"sqft_above\"}, {\"dtype\": \"int\", \"name\": \"sqft_basement\"}, {\"dtype\": \"int\", \"name\": \"yr_built\"}, {\"dtype\": \"int\", \"name\": \"yr_renovated\"}, {\"dtype\": \"str\", \"name\": \"zipcode\"}, {\"dtype\": \"float\", \"name\": \"lat\"}, {\"dtype\": \"float\", \"name\": \"long\"}, {\"dtype\": \"float\", \"name\": \"sqft_living15\"}, {\"dtype\": \"float\", \"name\": \"sqft_lot15\"}]}, e);\n",
       "                });\n",
       "            })();\n",
       "        "
      ]
     },
     "metadata": {},
     "output_type": "display_data"
    }
   ],
   "source": [
    "sales.show(view='Scatter Plot', x='sqft_living', y='price')"
   ]
  },
  {
   "cell_type": "markdown",
   "metadata": {},
   "source": [
    "# Split data into training and testing"
   ]
  },
  {
   "cell_type": "markdown",
   "metadata": {},
   "source": [
    "We use seed=0 so that everyone running this notebook gets the same results.  In practice, you may set a random seed (or let GraphLab Create pick a random seed for you).  "
   ]
  },
  {
   "cell_type": "code",
   "execution_count": 7,
   "metadata": {
    "collapsed": false
   },
   "outputs": [],
   "source": [
    "train_data,test_data = sales.random_split(.8,seed=0)"
   ]
  },
  {
   "cell_type": "markdown",
   "metadata": {},
   "source": [
    "# Useful SFrame summary functions"
   ]
  },
  {
   "cell_type": "markdown",
   "metadata": {},
   "source": [
    "In order to make use of the closed form solution as well as take advantage of graphlab's built in functions we will review some important ones. In particular:\n",
    "* Computing the sum of an SArray\n",
    "* Computing the arithmetic average (mean) of an SArray\n",
    "* multiplying SArrays by constants\n",
    "* multiplying SArrays by other SArrays"
   ]
  },
  {
   "cell_type": "markdown",
   "metadata": {
    "collapsed": false
   },
   "source": [
    "# Let's compute the mean of the House Prices in King County in 2 different ways.\n",
    "prices = sales['price'] # extract the price column of the sales SFrame -- this is now an SArray\n",
    "\n",
    "# recall that the arithmetic average (the mean) is the sum of the prices divided by the total number of houses:\n",
    "sum_prices = prices.sum()\n",
    "num_houses = prices.size() # when prices is an SArray .size() returns its length\n",
    "avg_price_1 = sum_prices/num_houses\n",
    "avg_price_2 = prices.mean() # if you just want the average, the .mean() function\n",
    "print \"average price via method 1: \" + str(avg_price_1)\n",
    "print \"average price via method 2: \" + str(avg_price_2)"
   ]
  },
  {
   "cell_type": "markdown",
   "metadata": {},
   "source": [
    "As we see we get the same answer both ways"
   ]
  },
  {
   "cell_type": "markdown",
   "metadata": {
    "collapsed": false
   },
   "source": [
    "# if we want to multiply every price by 0.5 it's a simple as:\n",
    "half_prices = 0.5*prices\n",
    "# Let's compute the sum of squares of price. We can multiply two SArrays of the same length elementwise also with *\n",
    "prices_squared = prices*prices\n",
    "sum_prices_squared = prices_squared.sum() # price_squared is an SArray of the squares and we want to add them up.\n",
    "print \"the sum of price squared is: \" + str(sum_prices_squared)"
   ]
  },
  {
   "cell_type": "markdown",
   "metadata": {},
   "source": [
    "Aside: The python notation x.xxe+yy means x.xx \\* 10^(yy). e.g 100 = 10^2 = 1*10^2 = 1e2 "
   ]
  },
  {
   "cell_type": "markdown",
   "metadata": {},
   "source": [
    "# Build a generic simple linear regression function "
   ]
  },
  {
   "cell_type": "markdown",
   "metadata": {},
   "source": [
    "Armed with these SArray functions we can use the closed form solution found from lecture to compute the slope and intercept for a simple linear regression on observations stored as SArrays: input_feature, output.\n",
    "\n",
    "Complete the following function (or write your own) to compute the simple linear regression slope and intercept:"
   ]
  },
  {
   "cell_type": "markdown",
   "metadata": {
    "collapsed": false
   },
   "source": [
    "def simple_linear_regression(input_feature, output):\n",
    "    # compute the sum of input_feature and output\n",
    "    \n",
    "    # compute the product of the output and the input_feature and its sum\n",
    "    \n",
    "    # compute the squared value of the input_feature and its sum\n",
    "    \n",
    "    # use the formula for the slope\n",
    "    \n",
    "    # use the formula for the intercept\n",
    "    \n",
    "    return (intercept, slope)"
   ]
  },
  {
   "cell_type": "code",
   "execution_count": 70,
   "metadata": {
    "collapsed": true
   },
   "outputs": [],
   "source": [
    "# Numerator is numerator = (mean of X * Y) - (mean of X)*(mean of Y) - Here x is sqft_living and y is price\n",
    "# Denominator is denominator = (mean of X^2) - (mean of X)*(mean of X)\n",
    "# intercept = (mean of Y) - slope * (mean of X)\n",
    "def simple_linear_regression(input_feature,output):\n",
    "    meanofXY=((output*input_feature).sum())/len(output)\n",
    "    meanOfXmeanOfY=((input_feature.sum())/len(input_feature))*((output.sum())/len(output))\n",
    "    numerator=meanofXY-meanOfXmeanOfY\n",
    "    meanOfXsq=((input_feature*input_feature).sum())/len(input_feature)\n",
    "    meanofXmeanofX=((input_feature.sum())/len(input_feature))*((input_feature.sum())/len(input_feature))\n",
    "    denominator=meanOfXsq-meanofXmeanofX\n",
    "    slope=(numerator/denominator)\n",
    "    meanofY=(output.sum())/len(output)\n",
    "    meanofX=(input_feature.sum())/len(input_feature)\n",
    "    intercept=(meanofY-slope*meanofX)\n",
    "    return(intercept,slope) "
   ]
  },
  {
   "cell_type": "markdown",
   "metadata": {},
   "source": [
    "We can test that our function works by passing it something where we know the answer. In particular we can generate a feature and then put the output exactly on a line: output = 1 + 1\\*input_feature then we know both our slope and intercept should be 1"
   ]
  },
  {
   "cell_type": "code",
   "execution_count": 71,
   "metadata": {
    "collapsed": false,
    "scrolled": true
   },
   "outputs": [
    {
     "name": "stdout",
     "output_type": "stream",
     "text": [
      "[0, 1, 2, 3, 4]\n",
      "[1, 2, 3, 4, 5]\n",
      "Intercept: 1\n",
      "Slope: 1\n"
     ]
    }
   ],
   "source": [
    "test_feature = gl.SArray(range(5))\n",
    "test_output = gl.SArray(1 + 1*test_feature)\n",
    "print test_feature\n",
    "print test_output\n",
    "(test_intercept, test_slope) =  simple_linear_regression(test_feature, test_output)\n",
    "print \"Intercept: \" + str(test_intercept)\n",
    "print \"Slope: \" + str(test_slope)"
   ]
  },
  {
   "cell_type": "markdown",
   "metadata": {},
   "source": [
    "Now that we know it works let's build a regression model for predicting price based on sqft_living. Rembember that we train on train_data!"
   ]
  },
  {
   "cell_type": "code",
   "execution_count": 72,
   "metadata": {
    "collapsed": false
   },
   "outputs": [
    {
     "name": "stdout",
     "output_type": "stream",
     "text": [
      "Intercept: -47116.0765749\n",
      "Slope: 281.958838568\n"
     ]
    }
   ],
   "source": [
    "sqft_intercept, sqft_slope = simple_linear_regression(train_data['sqft_living'], train_data['price'])\n",
    "\n",
    "print \"Intercept: \" + str(sqft_intercept)\n",
    "print \"Slope: \" + str(sqft_slope)"
   ]
  },
  {
   "cell_type": "markdown",
   "metadata": {},
   "source": [
    "# Predicting Values"
   ]
  },
  {
   "cell_type": "markdown",
   "metadata": {},
   "source": [
    "Now that we have the model parameters: intercept & slope we can make predictions. Using SArrays it's easy to multiply an SArray by a constant and add a constant value. Complete the following function to return the predicted output given the input_feature, slope and intercept:"
   ]
  },
  {
   "cell_type": "code",
   "execution_count": 35,
   "metadata": {
    "collapsed": false
   },
   "outputs": [],
   "source": [
    "def get_regression_predictions(input_feature, intercept, slope):\n",
    "    #intercept, slope = simple_linear_regression(train_data['sqft_living'], train_data['price'])\n",
    "    predicted_values = (intercept+slope*input_feature)\n",
    "    return predicted_values"
   ]
  },
  {
   "cell_type": "markdown",
   "metadata": {},
   "source": [
    "Now that we can calculate a prediction given the slope and intercept let's make a prediction. Use (or alter) the following to find out the estimated price for a house with 2650 squarefeet according to the squarefeet model we estiamted above.\n",
    "\n",
    "**Quiz Question: Using your Slope and Intercept from (4), What is the predicted price for a house with 2650 sqft?**"
   ]
  },
  {
   "cell_type": "code",
   "execution_count": 73,
   "metadata": {
    "collapsed": false
   },
   "outputs": [
    {
     "name": "stdout",
     "output_type": "stream",
     "text": [
      "The estimated price for a house with 2650 squarefeet is $700074.85\n"
     ]
    }
   ],
   "source": [
    "my_house_sqft = 2650\n",
    "estimated_price = get_regression_predictions(my_house_sqft, sqft_intercept, sqft_slope)\n",
    "print \"The estimated price for a house with %d squarefeet is $%.2f\" % (my_house_sqft, estimated_price)"
   ]
  },
  {
   "cell_type": "code",
   "execution_count": 51,
   "metadata": {
    "collapsed": false
   },
   "outputs": [
    {
     "data": {
      "text/plain": [
       "float"
      ]
     },
     "execution_count": 51,
     "metadata": {},
     "output_type": "execute_result"
    }
   ],
   "source": [
    "type(estimated_price)"
   ]
  },
  {
   "cell_type": "code",
   "execution_count": 74,
   "metadata": {
    "collapsed": true
   },
   "outputs": [],
   "source": [
    "input_feature=train_data['sqft_living']\n",
    "sqft_intercept, sqft_slope = simple_linear_regression(train_data['sqft_living'], train_data['price'])\n",
    "predicted_values=get_regression_predictions(input_feature, sqft_intercept, sqft_slope)"
   ]
  },
  {
   "cell_type": "code",
   "execution_count": 50,
   "metadata": {
    "collapsed": false
   },
   "outputs": [
    {
     "data": {
      "text/plain": [
       "graphlab.data_structures.sarray.SArray"
      ]
     },
     "execution_count": 50,
     "metadata": {},
     "output_type": "execute_result"
    }
   ],
   "source": [
    "type(predicted_values)"
   ]
  },
  {
   "cell_type": "markdown",
   "metadata": {},
   "source": [
    "# Residual Sum of Squares"
   ]
  },
  {
   "cell_type": "markdown",
   "metadata": {},
   "source": [
    "Now that we have a model and can make predictions let's evaluate our model using Residual Sum of Squares (RSS). Recall that RSS is the sum of the squares of the residuals and the residuals is just a fancy word for the difference between the predicted output and the true output. \n",
    "\n",
    "Complete the following (or write your own) function to compute the RSS of a simple linear regression model given the input_feature, output, intercept and slope:"
   ]
  },
  {
   "cell_type": "code",
   "execution_count": 76,
   "metadata": {
    "collapsed": true
   },
   "outputs": [],
   "source": [
    "def get_residual_sum_of_squares(input_feature, output, intercept, slope):\n",
    "    predicted_values=get_regression_predictions(input_feature,intercept,slope)\n",
    "    difference=(predicted_values-output)\n",
    "    RSS=(difference*difference).sum()\n",
    "    return(RSS)"
   ]
  },
  {
   "cell_type": "markdown",
   "metadata": {},
   "source": [
    "Let's test our get_residual_sum_of_squares function by applying it to the test model where the data lie exactly on a line. Since they lie exactly on a line the residual sum of squares should be zero!"
   ]
  },
  {
   "cell_type": "code",
   "execution_count": 77,
   "metadata": {
    "collapsed": false
   },
   "outputs": [
    {
     "name": "stdout",
     "output_type": "stream",
     "text": [
      "[0, 1, 2, 3, 4]\n",
      "[1, 2, 3, 4, 5]\n",
      "Intercept: 1\n",
      "Slope: 1\n"
     ]
    }
   ],
   "source": [
    "test_feature = gl.SArray(range(5))\n",
    "test_output = gl.SArray(1 + 1*test_feature)\n",
    "print test_feature\n",
    "print test_output\n",
    "(test_intercept, test_slope) =  simple_linear_regression(test_feature, test_output)\n",
    "print \"Intercept: \" + str(test_intercept)\n",
    "print \"Slope: \" + str(test_slope)"
   ]
  },
  {
   "cell_type": "code",
   "execution_count": 78,
   "metadata": {
    "collapsed": false
   },
   "outputs": [
    {
     "name": "stdout",
     "output_type": "stream",
     "text": [
      "0\n"
     ]
    }
   ],
   "source": [
    "print get_residual_sum_of_squares(test_feature, test_output, test_intercept, test_slope) # should be 0.0"
   ]
  },
  {
   "cell_type": "markdown",
   "metadata": {},
   "source": [
    "Now use your function to calculate the RSS on training data from the squarefeet model calculated above.\n",
    "\n",
    "**Quiz Question: According to this function and the slope and intercept from the squarefeet model What is the RSS for the simple linear regression using squarefeet to predict prices on TRAINING data?**"
   ]
  },
  {
   "cell_type": "code",
   "execution_count": 79,
   "metadata": {
    "collapsed": false
   },
   "outputs": [
    {
     "name": "stdout",
     "output_type": "stream",
     "text": [
      "The RSS of predicting Prices based on Square Feet is : 1.20191835632e+15\n"
     ]
    }
   ],
   "source": [
    "rss_prices_on_sqft = get_residual_sum_of_squares(train_data['sqft_living'], train_data['price'], sqft_intercept, sqft_slope)\n",
    "print 'The RSS of predicting Prices based on Square Feet is : ' + str(rss_prices_on_sqft)"
   ]
  },
  {
   "cell_type": "markdown",
   "metadata": {},
   "source": [
    "# Predict the squarefeet given price"
   ]
  },
  {
   "cell_type": "markdown",
   "metadata": {},
   "source": [
    "What if we want to predict the squarefoot given the price? Since we have an equation y = a + b\\*x we can solve the function for x. So that if we have the intercept (a) and the slope (b) and the price (y) we can solve for the estimated squarefeet (x).\n",
    "\n",
    "Comlplete the following function to compute the inverse regression estimate, i.e. predict the input_feature given the output!"
   ]
  },
  {
   "cell_type": "code",
   "execution_count": 80,
   "metadata": {
    "collapsed": true
   },
   "outputs": [],
   "source": [
    "def inverse_regression_predictions(output, intercept, slope):\n",
    "    # solve output = intercept + slope*input_feature for input_feature. Use this equation to compute the inverse predictions:\n",
    "    estimated_feature = (output-intercept)/slope\n",
    "    return estimated_feature"
   ]
  },
  {
   "cell_type": "markdown",
   "metadata": {},
   "source": [
    "Now that we have a function to compute the squarefeet given the price from our simple regression model let's see how big we might expect a house that costs $800,000 to be.\n",
    "\n",
    "**Quiz Question: According to this function and the regression slope and intercept from (3) what is the estimated square-feet for a house costing $800,000?**"
   ]
  },
  {
   "cell_type": "code",
   "execution_count": 81,
   "metadata": {
    "collapsed": false
   },
   "outputs": [
    {
     "name": "stdout",
     "output_type": "stream",
     "text": [
      "The estimated squarefeet for a house worth $800000.00 is 3004\n"
     ]
    }
   ],
   "source": [
    "my_house_price = 800000\n",
    "estimated_squarefeet = inverse_regression_predictions(my_house_price, sqft_intercept, sqft_slope)\n",
    "print \"The estimated squarefeet for a house worth $%.2f is %d\" % (my_house_price, estimated_squarefeet)"
   ]
  },
  {
   "cell_type": "markdown",
   "metadata": {},
   "source": [
    "# New Model: estimate prices from bedrooms"
   ]
  },
  {
   "cell_type": "code",
   "execution_count": 82,
   "metadata": {
    "collapsed": false
   },
   "outputs": [
    {
     "name": "stdout",
     "output_type": "stream",
     "text": [
      "109473.180469\n",
      "127588.952175\n"
     ]
    }
   ],
   "source": [
    "# Estimate the slope and intercept for predicting 'price' based on 'bedrooms'\n",
    "bedroom_intercept, bedroom_slope = simple_linear_regression(train_data['bedrooms'],train_data['price'])\n",
    "print bedroom_intercept\n",
    "print bedroom_slope"
   ]
  },
  {
   "cell_type": "markdown",
   "metadata": {},
   "source": [
    "We have made one model for predicting house prices using squarefeet, but there are many other features in the sales SFrame. \n",
    "Use your simple linear regression function to estimate the regression parameters from predicting Prices based on number of bedrooms. Use the training data!"
   ]
  },
  {
   "cell_type": "markdown",
   "metadata": {},
   "source": [
    "# Test your Linear Regression Algorithm"
   ]
  },
  {
   "cell_type": "markdown",
   "metadata": {},
   "source": [
    "Now we have two models for predicting the price of a house. How do we know which one is better? Calculate the RSS on the TEST data (remember this data wasn't involved in learning the model). Compute the RSS from predicting prices using bedrooms and from predicting prices using squarefeet.\n",
    "\n",
    "**Quiz Question: Which model (square feet or bedrooms) has lowest RSS on TEST data? Think about why this might be the case.**"
   ]
  },
  {
   "cell_type": "code",
   "execution_count": 83,
   "metadata": {
    "collapsed": false
   },
   "outputs": [
    {
     "name": "stdout",
     "output_type": "stream",
     "text": [
      "4.93364582868e+14\n"
     ]
    }
   ],
   "source": [
    "# Compute RSS when using bedrooms on TEST data:\n",
    "print get_residual_sum_of_squares(test_data['bedrooms'], test_data['price'], bedroom_intercept, bedroom_slope)"
   ]
  },
  {
   "cell_type": "code",
   "execution_count": 84,
   "metadata": {
    "collapsed": false
   },
   "outputs": [
    {
     "name": "stdout",
     "output_type": "stream",
     "text": [
      "2.75402936247e+14\n"
     ]
    }
   ],
   "source": [
    "# Compute RSS when using squarefeet on TEST data:\n",
    "print get_residual_sum_of_squares(test_data['sqft_living'], test_data['price'], sqft_intercept, sqft_slope)"
   ]
  },
  {
   "cell_type": "code",
   "execution_count": null,
   "metadata": {
    "collapsed": true
   },
   "outputs": [],
   "source": []
  }
 ],
 "metadata": {
  "kernelspec": {
   "display_name": "Python 2",
   "language": "python",
   "name": "python2"
  },
  "language_info": {
   "codemirror_mode": {
    "name": "ipython",
    "version": 2
   },
   "file_extension": ".py",
   "mimetype": "text/x-python",
   "name": "python",
   "nbconvert_exporter": "python",
   "pygments_lexer": "ipython2",
   "version": "2.7.11"
  }
 },
 "nbformat": 4,
 "nbformat_minor": 0
}
